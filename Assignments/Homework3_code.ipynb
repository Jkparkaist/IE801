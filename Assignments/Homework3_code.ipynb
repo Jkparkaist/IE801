{
 "cells": [
  {
   "cell_type": "markdown",
   "metadata": {},
   "source": [
    "# Problem 1-(5)\n",
    "\n",
    "\n",
    "## Consider the following Prisoner's Dilemma game\n",
    "\n",
    "$$\\begin{bmatrix}\n",
    "    (3,3)       & (0,4)  \\\\\n",
    "    (4,0)       & (1,1)\n",
    "\\end{bmatrix}$$\n",
    "\n",
    "## Complete the following code for replicator dyanmics and plot the results"
   ]
  },
  {
   "cell_type": "code",
   "execution_count": 45,
   "metadata": {
    "collapsed": false
   },
   "outputs": [
    {
     "ename": "NameError",
     "evalue": "name 'x_new' is not defined",
     "output_type": "error",
     "traceback": [
      "\u001b[0;31m---------------------------------------------------------------------------\u001b[0m",
      "\u001b[0;31mNameError\u001b[0m                                 Traceback (most recent call last)",
      "\u001b[0;32m<ipython-input-45-fa6c534ebe0d>\u001b[0m in \u001b[0;36m<module>\u001b[0;34m()\u001b[0m\n\u001b[1;32m     55\u001b[0m \u001b[1;33m\u001b[0m\u001b[0m\n\u001b[1;32m     56\u001b[0m \u001b[1;31m#run simulation with 100 iterations\u001b[0m\u001b[1;33m\u001b[0m\u001b[1;33m\u001b[0m\u001b[0m\n\u001b[0;32m---> 57\u001b[0;31m \u001b[0mX\u001b[0m\u001b[1;33m=\u001b[0m\u001b[0msimulate2D\u001b[0m\u001b[1;33m(\u001b[0m\u001b[0mU\u001b[0m\u001b[1;33m,\u001b[0m\u001b[0mn\u001b[0m\u001b[1;33m=\u001b[0m\u001b[1;36m1000\u001b[0m\u001b[1;33m)\u001b[0m\u001b[1;33m\u001b[0m\u001b[0m\n\u001b[0m",
      "\u001b[0;32m<ipython-input-45-fa6c534ebe0d>\u001b[0m in \u001b[0;36msimulate2D\u001b[0;34m(U, n)\u001b[0m\n\u001b[1;32m     37\u001b[0m \u001b[1;33m\u001b[0m\u001b[0m\n\u001b[1;32m     38\u001b[0m     \u001b[1;32mfor\u001b[0m \u001b[0mi\u001b[0m \u001b[1;32min\u001b[0m \u001b[0mrange\u001b[0m\u001b[1;33m(\u001b[0m\u001b[1;36m1\u001b[0m\u001b[1;33m,\u001b[0m \u001b[0mn\u001b[0m\u001b[1;33m)\u001b[0m\u001b[1;33m:\u001b[0m\u001b[1;33m\u001b[0m\u001b[0m\n\u001b[0;32m---> 39\u001b[0;31m         \u001b[0mx\u001b[0m\u001b[1;33m=\u001b[0m\u001b[0mreplicator\u001b[0m\u001b[1;33m(\u001b[0m\u001b[0mU\u001b[0m\u001b[1;33m,\u001b[0m\u001b[0mx\u001b[0m\u001b[1;33m)\u001b[0m\u001b[1;33m\u001b[0m\u001b[0m\n\u001b[0m\u001b[1;32m     40\u001b[0m         \u001b[0mXa\u001b[0m\u001b[1;33m.\u001b[0m\u001b[0mappend\u001b[0m\u001b[1;33m(\u001b[0m\u001b[0mfloat\u001b[0m\u001b[1;33m(\u001b[0m\u001b[0mx\u001b[0m\u001b[1;33m[\u001b[0m\u001b[1;36m0\u001b[0m\u001b[1;33m]\u001b[0m\u001b[1;33m)\u001b[0m\u001b[1;33m)\u001b[0m\u001b[1;33m\u001b[0m\u001b[0m\n\u001b[1;32m     41\u001b[0m         \u001b[0mXb\u001b[0m\u001b[1;33m.\u001b[0m\u001b[0mappend\u001b[0m\u001b[1;33m(\u001b[0m\u001b[0mfloat\u001b[0m\u001b[1;33m(\u001b[0m\u001b[0mx\u001b[0m\u001b[1;33m[\u001b[0m\u001b[1;36m1\u001b[0m\u001b[1;33m]\u001b[0m\u001b[1;33m)\u001b[0m\u001b[1;33m)\u001b[0m\u001b[1;33m\u001b[0m\u001b[0m\n",
      "\u001b[0;32m<ipython-input-45-fa6c534ebe0d>\u001b[0m in \u001b[0;36mreplicator\u001b[0;34m(U, x, dt)\u001b[0m\n\u001b[1;32m     24\u001b[0m \u001b[1;33m\u001b[0m\u001b[0m\n\u001b[1;32m     25\u001b[0m     \u001b[1;31m#######################################\u001b[0m\u001b[1;33m\u001b[0m\u001b[1;33m\u001b[0m\u001b[0m\n\u001b[0;32m---> 26\u001b[0;31m     \u001b[1;32mreturn\u001b[0m \u001b[0mx_new\u001b[0m\u001b[1;33m\u001b[0m\u001b[0m\n\u001b[0m\u001b[1;32m     27\u001b[0m \u001b[1;33m\u001b[0m\u001b[0m\n\u001b[1;32m     28\u001b[0m \u001b[1;33m\u001b[0m\u001b[0m\n",
      "\u001b[0;31mNameError\u001b[0m: name 'x_new' is not defined"
     ]
    }
   ],
   "source": [
    "from __future__ import division\n",
    "import ternary\n",
    "import random\n",
    "import pylab\n",
    "import numpy as np\n",
    "%matplotlib inline \n",
    "\n",
    "\n",
    "def replicator(U,x, dt=0.01):\n",
    "   \n",
    "    #######################################\n",
    "    ### Fill out your code ################\n",
    "\n",
    "    \n",
    "    \n",
    "    \n",
    "    \n",
    "    \n",
    "    \n",
    "    \n",
    "    \n",
    "    \n",
    "    \n",
    "    \n",
    "    #######################################    \n",
    "    return x_new\n",
    "\n",
    "\n",
    "def simulate2D(U,n=50000):\n",
    "\n",
    "    x=np.random.rand(2,1) \n",
    "    x=x/sum(x)\n",
    "    \n",
    "    t=range(0, n)\n",
    "    Xa=[float(x[0])]\n",
    "    Xb=[float(x[1])]\n",
    "\n",
    "    for i in range(1, n):\n",
    "        x=replicator(U,x)\n",
    "        Xa.append(float(x[0]))\n",
    "        Xb.append(float(x[1]))\n",
    "\n",
    "    pylab.figure(figsize=(20,10))\n",
    "    pylab.figure()\n",
    "    pylab.plot(t, Xa, 'r-', t, Xb, 'b--')\n",
    "    pylab.legend( ('Proportion of Strategy A', 'Proportion of Strategy B'))\n",
    "    pylab.title('Change in Population Fractions over Time')\n",
    "    pylab.xlabel('Time')\n",
    "    pylab.ylabel('Fraction of Population')\n",
    "    pylab.show()\n",
    "    return Xa\n",
    "    \n",
    "#Set the payoff matrix for player 1\n",
    "U = np.matrix([[3,0], [4,1]])\n",
    "\n",
    "#run simulation with 100 iterations\n",
    "X=simulate2D(U,n=1000)\n"
   ]
  },
  {
   "cell_type": "markdown",
   "metadata": {},
   "source": [
    "# Problem 2-(3)\n",
    "\n",
    "\n",
    "## Consider the following Rock Paper Scissor game\n",
    "\n",
    "$$\\begin{bmatrix}\n",
    "    (1-e)       & (0)    &(2) \\\\\n",
    "    (2)       & (1-e)   &(0) \\\\\n",
    "    (0)       & (2)      & (1-e)\n",
    "\\end{bmatrix}$$\n",
    "\n",
    "## Run replicator's dynamic code while varying the value for e and compare the results\n"
   ]
  },
  {
   "cell_type": "code",
   "execution_count": 46,
   "metadata": {
    "collapsed": false
   },
   "outputs": [],
   "source": [
    "#Input is the payoff matrix \n",
    "def simulate3D(U,n=5000):\n",
    "\n",
    "    x=np.random.rand(3,1) \n",
    "    x=x/sum(x)\n",
    "    \n",
    "    t=range(0, n)\n",
    "    Xa=[float(x[0])]\n",
    "    Xb=[float(x[1])]\n",
    "    Xc=[float(x[2])]\n",
    "\n",
    "    for i in range(1, n):\n",
    "        x=replicator(U,x)\n",
    "        Xa.append(float(x[0]))\n",
    "        Xb.append(float(x[1]))\n",
    "        Xc.append(float(x[2]))\n",
    "\n",
    "    pylab.figure()\n",
    "    pylab.plot(t, Xa, 'r-', t, Xb, 'b--', t,Xc, 'g-.')\n",
    "    pylab.legend( ('Proportion of Strategy A', 'Proportion of Strategy B',\n",
    "                   'Proportion of Strategy C'))\n",
    "    pylab.title('Change in Population Fractions over Time')\n",
    "    pylab.xlabel('Time')\n",
    "    pylab.ylabel('Fraction of Population')\n",
    "    pylab.show()\n",
    "\n",
    "    \n",
    "    ## Sample trajectory plot\n",
    "    figure, tax = ternary.figure(scale=1.0)\n",
    "    tax.boundary()\n",
    "    tax.gridlines(multiple=0.2, color=\"black\")\n",
    "    tax.set_title(\"Plotting of sample trajectory data\", fontsize=20)\n",
    "    \n",
    "    points =[]\n",
    "    for i in range(0,len(Xa)):\n",
    "        points.append([Xa[i],Xb[i],Xc[i]])\n",
    "    \n",
    "    tax.plot(points, linewidth=2.0, label=\"Curve\")\n",
    "    tax.legend()\n",
    "    tax.show()    \n",
    "    \n",
    "\n",
    "#Simulate the codes    \n",
    "    \n"
   ]
  },
  {
   "cell_type": "markdown",
   "metadata": {},
   "source": [
    "# Proble 3-(3) Implement Fictitious Play for the following game\n",
    "\n",
    "$$\\begin{bmatrix}\n",
    "    (2,1)       & (3,1)  \\\\\n",
    "    (4,0)       & (1,3)\n",
    "\\end{bmatrix}$$"
   ]
  },
  {
   "cell_type": "code",
   "execution_count": 47,
   "metadata": {
    "collapsed": false
   },
   "outputs": [
    {
     "ename": "IndentationError",
     "evalue": "expected an indented block (<ipython-input-47-68f3e14116d9>, line 35)",
     "output_type": "error",
     "traceback": [
      "\u001b[0;36m  File \u001b[0;32m\"<ipython-input-47-68f3e14116d9>\"\u001b[0;36m, line \u001b[0;32m35\u001b[0m\n\u001b[0;31m    t=range(0,numSimul)\u001b[0m\n\u001b[0m    ^\u001b[0m\n\u001b[0;31mIndentationError\u001b[0m\u001b[0;31m:\u001b[0m expected an indented block\n"
     ]
    }
   ],
   "source": [
    "numSimul=1000 \n",
    "\n",
    "n_U=np.zeros(numSimul)\n",
    "n_D=np.zeros(numSimul)\n",
    "n_L=np.zeros(numSimul)\n",
    "n_R=np.zeros(numSimul)\n",
    "\n",
    "p_U=np.zeros(numSimul)\n",
    "p_L=np.zeros(numSimul)\n",
    "\n",
    "#Initialize the weight\n",
    "n_L[0] = 2.5\n",
    "n_R[0] = 1.0\n",
    "n_U[0] = 1.0\n",
    "n_D[0] = 1.0\n",
    "\n",
    "\n",
    "\n",
    "## simulation code\n",
    "for i in range(0,numSimul-1):\n",
    "    \n",
    "    ######################################################\n",
    "    ### complete code using the initialized variables ####\n",
    "    \n",
    "    \n",
    "    \n",
    "    \n",
    "    \n",
    "    \n",
    "    ######################################################\n",
    "\n",
    "    \n",
    "    \n",
    "#plot results\n",
    "t=range(0,numSimul)\n",
    "pylab.figure(figsize=(20,10))\n",
    "pylab.figure()\n",
    "pylab.plot(t, p_U, 'r-', t, p_L, 'b--')\n",
    "pylab.legend( ('Player 1 to play U', 'Player 2 to play L'))\n",
    "pylab.title('Fictitious play')\n",
    "pylab.xlabel('Iteration')\n",
    "pylab.ylabel('Probability')\n",
    "pylab.show()\n",
    "\n"
   ]
  },
  {
   "cell_type": "code",
   "execution_count": null,
   "metadata": {
    "collapsed": true
   },
   "outputs": [],
   "source": []
  }
 ],
 "metadata": {
  "kernelspec": {
   "display_name": "Python 3",
   "language": "python",
   "name": "python3"
  },
  "language_info": {
   "codemirror_mode": {
    "name": "ipython",
    "version": 3
   },
   "file_extension": ".py",
   "mimetype": "text/x-python",
   "name": "python",
   "nbconvert_exporter": "python",
   "pygments_lexer": "ipython3",
   "version": "3.6.0"
  }
 },
 "nbformat": 4,
 "nbformat_minor": 0
}
